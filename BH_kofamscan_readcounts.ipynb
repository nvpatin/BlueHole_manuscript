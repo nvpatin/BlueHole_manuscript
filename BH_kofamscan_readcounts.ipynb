{
 "cells": [
  {
   "cell_type": "code",
   "execution_count": 2,
   "metadata": {},
   "outputs": [
    {
     "name": "stderr",
     "output_type": "stream",
     "text": [
      "/Users/npatin3/miniconda/lib/python3.6/site-packages/statsmodels/tools/_testing.py:19: FutureWarning: pandas.util.testing is deprecated. Use the functions in the public API at pandas.testing instead.\n",
      "  import pandas.util.testing as tm\n"
     ]
    }
   ],
   "source": [
    "import os as os\n",
    "import glob as glob\n",
    "import math\n",
    "import pandas as pd\n",
    "import numpy as np\n",
    "import seaborn as sns\n",
    "import matplotlib.pyplot as plt"
   ]
  },
  {
   "cell_type": "code",
   "execution_count": 4,
   "metadata": {},
   "outputs": [],
   "source": [
    "os.chdir('/Users/npatin3/Dropbox (GaTech)/BlueHole/Data/Metagenomes/kofamscan')"
   ]
  },
  {
   "cell_type": "markdown",
   "metadata": {},
   "source": [
    "### Import the \"master\" KO htext file"
   ]
  },
  {
   "cell_type": "code",
   "execution_count": 5,
   "metadata": {},
   "outputs": [],
   "source": [
    "ko_master = '/Users/npatin3/Dropbox (GaTech)/Workflows/KO_Orthology_ko00001.txt'"
   ]
  },
  {
   "cell_type": "markdown",
   "metadata": {},
   "source": [
    "### Function to create file with KOs and number of mapped reads to each KO"
   ]
  },
  {
   "cell_type": "code",
   "execution_count": 6,
   "metadata": {},
   "outputs": [],
   "source": [
    "def get_KO_readcounts(kofams, magicblast, name):\n",
    "    # Drop rows with no KO\n",
    "    kofams.dropna(inplace=True)\n",
    "    # Select query and reference ORF from magicblast output\n",
    "    mb = magicblast[['Read','ORF']]\n",
    "    # Merge KO numbers with ORFs in MagicBlast results\n",
    "    mb_kos = mb.merge(kofams, on='ORF', how='inner')\n",
    "    # Add 'Size' column to provide count of one for each row\n",
    "    mb_kos['Size'] = 1\n",
    "    # Group by KO and provide sum of reads mapped to each one. Show one result for each KO only.\n",
    "    mb_kos['ReadCounts'] = mb_kos.groupby(['KO'])['Size'].transform('sum')\n",
    "    mb_kos.drop_duplicates(subset=['KO'], inplace=True)\n",
    "    KOs_readcounts = mb_kos[['KO','ReadCounts']]\n",
    "    KOs_readcounts['Sample'] = name\n",
    "    return(KOs_readcounts)"
   ]
  },
  {
   "cell_type": "code",
   "execution_count": 8,
   "metadata": {},
   "outputs": [
    {
     "name": "stdout",
     "output_type": "stream",
     "text": [
      "BH37_orfs_kofams.txt BH37_orfs_kofams BH37\n",
      "BH091995M_orfs_kofams.txt BH091995M_orfs_kofams BH091995M\n",
      "BH091960M_orfs_kofams.txt BH091960M_orfs_kofams BH091960M\n",
      "BH51_orfs_kofams.txt BH51_orfs_kofams BH51\n"
     ]
    }
   ],
   "source": [
    "for file in glob.glob(\"*kofams.txt\"):\n",
    "    a, b = file.split('.')\n",
    "    c, d, e = a.split('_')\n",
    "    name = c\n",
    "    print(file, a, name)"
   ]
  },
  {
   "cell_type": "markdown",
   "metadata": {},
   "source": [
    "### Get read counts for each KO"
   ]
  },
  {
   "cell_type": "code",
   "execution_count": 12,
   "metadata": {
    "scrolled": true
   },
   "outputs": [
    {
     "name": "stderr",
     "output_type": "stream",
     "text": [
      "/Users/npatin3/miniconda/lib/python3.6/site-packages/ipykernel_launcher.py:14: SettingWithCopyWarning: \n",
      "A value is trying to be set on a copy of a slice from a DataFrame.\n",
      "Try using .loc[row_indexer,col_indexer] = value instead\n",
      "\n",
      "See the caveats in the documentation: https://pandas.pydata.org/pandas-docs/stable/user_guide/indexing.html#returning-a-view-versus-a-copy\n",
      "  \n"
     ]
    }
   ],
   "source": [
    "reads = []\n",
    "for file in glob.glob(\"*kofams.txt\"):\n",
    "    kofams = pd.read_csv(file, sep='\\t', names=['ORF', 'KO'])\n",
    "    a, b = file.split('.')\n",
    "    c, d, e = a.split('_')\n",
    "    name = c\n",
    "    mb = pd.read_csv('%s_magicblast_out.fltrdBstHts.blst' % name, comment='#', sep='\\t', header=None)\n",
    "    mb.columns = [\"Read\",\"ORF\",\"% identity\",\"not used\",\"not used\",\n",
    "                      \"not used\",\"query start\",\"query end\",\"reference start\",\n",
    "                      \"reference end\",\"not used\",\"not used\",\"score\",\n",
    "                      \"query strand\",\"reference strand\",\"query length\",\n",
    "                      \"BTOP\",\"num placements\",\"not used\",\"compartment\",\n",
    "                      \"left overhang\",\"right overhang\",\"mate reference\",\n",
    "                      \"mate ref. start\",\"composite score\"]\n",
    "    df = get_KO_readcounts(kofams, mb, name)\n",
    "    reads.append(df)\n",
    "\n",
    "reads_df = pd.concat(reads)"
   ]
  },
  {
   "cell_type": "code",
   "execution_count": 13,
   "metadata": {},
   "outputs": [
    {
     "data": {
      "text/html": [
       "<div>\n",
       "<style scoped>\n",
       "    .dataframe tbody tr th:only-of-type {\n",
       "        vertical-align: middle;\n",
       "    }\n",
       "\n",
       "    .dataframe tbody tr th {\n",
       "        vertical-align: top;\n",
       "    }\n",
       "\n",
       "    .dataframe thead th {\n",
       "        text-align: right;\n",
       "    }\n",
       "</style>\n",
       "<table border=\"1\" class=\"dataframe\">\n",
       "  <thead>\n",
       "    <tr style=\"text-align: right;\">\n",
       "      <th></th>\n",
       "      <th>KO</th>\n",
       "      <th>ReadCounts</th>\n",
       "      <th>Sample</th>\n",
       "    </tr>\n",
       "  </thead>\n",
       "  <tbody>\n",
       "    <tr>\n",
       "      <th>0</th>\n",
       "      <td>K03531</td>\n",
       "      <td>753</td>\n",
       "      <td>BH37</td>\n",
       "    </tr>\n",
       "    <tr>\n",
       "      <th>35</th>\n",
       "      <td>K03685</td>\n",
       "      <td>335</td>\n",
       "      <td>BH37</td>\n",
       "    </tr>\n",
       "    <tr>\n",
       "      <th>188</th>\n",
       "      <td>K12373</td>\n",
       "      <td>916</td>\n",
       "      <td>BH37</td>\n",
       "    </tr>\n",
       "    <tr>\n",
       "      <th>642</th>\n",
       "      <td>K03499</td>\n",
       "      <td>1150</td>\n",
       "      <td>BH37</td>\n",
       "    </tr>\n",
       "    <tr>\n",
       "      <th>1054</th>\n",
       "      <td>K07277</td>\n",
       "      <td>737</td>\n",
       "      <td>BH37</td>\n",
       "    </tr>\n",
       "  </tbody>\n",
       "</table>\n",
       "</div>"
      ],
      "text/plain": [
       "          KO  ReadCounts Sample\n",
       "0     K03531         753   BH37\n",
       "35    K03685         335   BH37\n",
       "188   K12373         916   BH37\n",
       "642   K03499        1150   BH37\n",
       "1054  K07277         737   BH37"
      ]
     },
     "execution_count": 13,
     "metadata": {},
     "output_type": "execute_result"
    }
   ],
   "source": [
    "reads_df.head()"
   ]
  },
  {
   "cell_type": "markdown",
   "metadata": {},
   "source": [
    "### Match KOs, samples, and GE values"
   ]
  },
  {
   "cell_type": "markdown",
   "metadata": {},
   "source": [
    "#### Import Genome Equivalent file and make a dict with GE of each sample"
   ]
  },
  {
   "cell_type": "code",
   "execution_count": 14,
   "metadata": {},
   "outputs": [],
   "source": [
    "# Import GE files\n",
    "mgn_GEs = pd.read_csv('MGN_GEs.txt', names=['Sample','GE'], sep='\\t')\n",
    "# Make a dict from the data frame, setting Sample as keys and reads as values\n",
    "mgns_dict = dict(zip(mgn_GEs.Sample, mgn_GEs.GE))\n",
    "# Map the GE of the corresponding sample onto the read counts file\n",
    "reads_df['GE'] = reads_df['Sample'].map(mgns_dict)\n",
    "# Make a dict from the reads df\n",
    "kolist = reads_df['KO']\n",
    "ko_dict = {}"
   ]
  },
  {
   "cell_type": "code",
   "execution_count": 15,
   "metadata": {},
   "outputs": [],
   "source": [
    "for line in kolist:\n",
    "    konumber = line.rstrip()\n",
    "    ko_dict[konumber] = ''"
   ]
  },
  {
   "cell_type": "markdown",
   "metadata": {},
   "source": [
    "### Match the KO number in column 3 of the master file with the dict keys"
   ]
  },
  {
   "cell_type": "code",
   "execution_count": 16,
   "metadata": {},
   "outputs": [],
   "source": [
    "with open(ko_master, 'r') as file, open('kolist_full.tsv', 'w') as outfile:\n",
    "    for line in file:\n",
    "        X = line.rstrip().split('\\t')\n",
    "        konumber = X[3].split(' ')[0]\n",
    "        if konumber in ko_dict:\n",
    "            outfile.write(line)"
   ]
  },
  {
   "cell_type": "markdown",
   "metadata": {},
   "source": [
    "### Import the file just created and reformat"
   ]
  },
  {
   "cell_type": "code",
   "execution_count": 17,
   "metadata": {},
   "outputs": [
    {
     "data": {
      "text/html": [
       "<div>\n",
       "<style scoped>\n",
       "    .dataframe tbody tr th:only-of-type {\n",
       "        vertical-align: middle;\n",
       "    }\n",
       "\n",
       "    .dataframe tbody tr th {\n",
       "        vertical-align: top;\n",
       "    }\n",
       "\n",
       "    .dataframe thead th {\n",
       "        text-align: right;\n",
       "    }\n",
       "</style>\n",
       "<table border=\"1\" class=\"dataframe\">\n",
       "  <thead>\n",
       "    <tr style=\"text-align: right;\">\n",
       "      <th></th>\n",
       "      <th>One</th>\n",
       "      <th>Two</th>\n",
       "      <th>Three</th>\n",
       "      <th>Four</th>\n",
       "    </tr>\n",
       "  </thead>\n",
       "  <tbody>\n",
       "    <tr>\n",
       "      <th>0</th>\n",
       "      <td>09100 Metabolism</td>\n",
       "      <td>09101 Carbohydrate metabolism</td>\n",
       "      <td>00010 Glycolysis / Gluconeogenesis [PATH:ko00010]</td>\n",
       "      <td>K00844  HK; hexokinase [EC:2.7.1.1]</td>\n",
       "    </tr>\n",
       "    <tr>\n",
       "      <th>1</th>\n",
       "      <td>09100 Metabolism</td>\n",
       "      <td>09101 Carbohydrate metabolism</td>\n",
       "      <td>00010 Glycolysis / Gluconeogenesis [PATH:ko00010]</td>\n",
       "      <td>K00845  glk; glucokinase [EC:2.7.1.2]</td>\n",
       "    </tr>\n",
       "    <tr>\n",
       "      <th>2</th>\n",
       "      <td>09100 Metabolism</td>\n",
       "      <td>09101 Carbohydrate metabolism</td>\n",
       "      <td>00010 Glycolysis / Gluconeogenesis [PATH:ko00010]</td>\n",
       "      <td>K01810  GPI, pgi; glucose-6-phosphate isomeras...</td>\n",
       "    </tr>\n",
       "    <tr>\n",
       "      <th>3</th>\n",
       "      <td>09100 Metabolism</td>\n",
       "      <td>09101 Carbohydrate metabolism</td>\n",
       "      <td>00010 Glycolysis / Gluconeogenesis [PATH:ko00010]</td>\n",
       "      <td>K06859  pgi1; glucose-6-phosphate isomerase, a...</td>\n",
       "    </tr>\n",
       "    <tr>\n",
       "      <th>4</th>\n",
       "      <td>09100 Metabolism</td>\n",
       "      <td>09101 Carbohydrate metabolism</td>\n",
       "      <td>00010 Glycolysis / Gluconeogenesis [PATH:ko00010]</td>\n",
       "      <td>K15916  pgi-pmi; glucose/mannose-6-phosphate i...</td>\n",
       "    </tr>\n",
       "  </tbody>\n",
       "</table>\n",
       "</div>"
      ],
      "text/plain": [
       "                One                            Two  \\\n",
       "0  09100 Metabolism  09101 Carbohydrate metabolism   \n",
       "1  09100 Metabolism  09101 Carbohydrate metabolism   \n",
       "2  09100 Metabolism  09101 Carbohydrate metabolism   \n",
       "3  09100 Metabolism  09101 Carbohydrate metabolism   \n",
       "4  09100 Metabolism  09101 Carbohydrate metabolism   \n",
       "\n",
       "                                               Three  \\\n",
       "0  00010 Glycolysis / Gluconeogenesis [PATH:ko00010]   \n",
       "1  00010 Glycolysis / Gluconeogenesis [PATH:ko00010]   \n",
       "2  00010 Glycolysis / Gluconeogenesis [PATH:ko00010]   \n",
       "3  00010 Glycolysis / Gluconeogenesis [PATH:ko00010]   \n",
       "4  00010 Glycolysis / Gluconeogenesis [PATH:ko00010]   \n",
       "\n",
       "                                                Four  \n",
       "0                K00844  HK; hexokinase [EC:2.7.1.1]  \n",
       "1              K00845  glk; glucokinase [EC:2.7.1.2]  \n",
       "2  K01810  GPI, pgi; glucose-6-phosphate isomeras...  \n",
       "3  K06859  pgi1; glucose-6-phosphate isomerase, a...  \n",
       "4  K15916  pgi-pmi; glucose/mannose-6-phosphate i...  "
      ]
     },
     "execution_count": 17,
     "metadata": {},
     "output_type": "execute_result"
    }
   ],
   "source": [
    "kolist_full = pd.read_csv('kolist_full.tsv', sep='\\t', header=None, names=['One','Two','Three','Four'])\n",
    "kolist_full.head()"
   ]
  },
  {
   "cell_type": "code",
   "execution_count": 18,
   "metadata": {},
   "outputs": [],
   "source": [
    "def reformat_kolist_full (ko_df, reads_df):\n",
    "    # Remove the numbered codes preceding each category\n",
    "    ko_df[['One', 'Group']] = ko_df['One'].str.split(\" \", n=1, expand=True)\n",
    "    ko_df[['Two', 'Subgroup']] = ko_df['Two'].str.split(\" \", n=1, expand=True)\n",
    "    ko_df[['Three', 'Subgroup2']] = ko_df['Three'].str.split(\" \", n=1, expand=True)\n",
    "    ko_df[['Four', 'Function']] = ko_df['Four'].str.split(\" \", n=1, expand=True)\n",
    "    # Rename the column with KO numbers\n",
    "    ko_df_new = ko_df.rename(columns={\"Four\": \"KO\"})\n",
    "    # Select only relevant columns\n",
    "    ko_df_new = ko_df_new[['Group','Subgroup','Subgroup2','KO','Function']]\n",
    "    # Merge this data frame with the read counts data frame\n",
    "    df_full = ko_df_new.merge(reads_df, on='KO', how='inner')\n",
    "    # Normalize read counts by GE value of metagenome\n",
    "    df_full['ReadCounts_Norm'] = df_full['ReadCounts'] / df_full['GE']\n",
    "    return(df_full)"
   ]
  },
  {
   "cell_type": "code",
   "execution_count": 19,
   "metadata": {},
   "outputs": [],
   "source": [
    "KOs_readcounts_full = reformat_kolist_full(kolist_full, reads_df)"
   ]
  },
  {
   "cell_type": "markdown",
   "metadata": {},
   "source": [
    "### Split full data frame by sample, then recombine with dataset information"
   ]
  },
  {
   "cell_type": "code",
   "execution_count": 21,
   "metadata": {
    "scrolled": true
   },
   "outputs": [],
   "source": [
    "KOs_BH37 = KOs_readcounts_full[KOs_readcounts_full['Sample'] == 'BH37']\n",
    "KOs_BH37.to_csv('KO_counts_BH37.csv')"
   ]
  },
  {
   "cell_type": "code",
   "execution_count": 22,
   "metadata": {
    "scrolled": true
   },
   "outputs": [],
   "source": [
    "KOs_BH51 = KOs_readcounts_full[KOs_readcounts_full['Sample'] == 'BH51']\n",
    "KOs_BH51.to_csv('KO_counts_BH51.csv')"
   ]
  },
  {
   "cell_type": "code",
   "execution_count": 23,
   "metadata": {},
   "outputs": [],
   "source": [
    "KOs_BH091960M = KOs_readcounts_full[KOs_readcounts_full['Sample'] == 'BH091960M']\n",
    "KOs_BH091960M.to_csv('KO_counts_BH091960M.csv')"
   ]
  },
  {
   "cell_type": "code",
   "execution_count": 24,
   "metadata": {},
   "outputs": [],
   "source": [
    "KOs_BH091995M = KOs_readcounts_full[KOs_readcounts_full['Sample'] == 'BH091995M']\n",
    "KOs_BH091995M.to_csv('KO_counts_BH091995M.csv')"
   ]
  },
  {
   "cell_type": "code",
   "execution_count": 25,
   "metadata": {},
   "outputs": [],
   "source": [
    "KOs_60Ms = KOs_readcounts_full[(KOs_readcounts_full['Sample'] == 'BH37') | \n",
    "                               (KOs_readcounts_full['Sample'] == 'BH091960M')]"
   ]
  },
  {
   "cell_type": "code",
   "execution_count": 26,
   "metadata": {},
   "outputs": [],
   "source": [
    "KOs_deeps = KOs_readcounts_full[(KOs_readcounts_full['Sample'] == 'BH51') | \n",
    "                                (KOs_readcounts_full['Sample'] == 'BH091995M')]"
   ]
  },
  {
   "cell_type": "markdown",
   "metadata": {},
   "source": [
    "### Concatenate the two data sets while maintaining the information as to which row is from which data set"
   ]
  },
  {
   "cell_type": "code",
   "execution_count": 27,
   "metadata": {},
   "outputs": [],
   "source": [
    "concat = pd.concat([KOs_60Ms.assign(dataset='60Ms'), KOs_deeps.assign(dataset='deeps')])"
   ]
  },
  {
   "cell_type": "code",
   "execution_count": 28,
   "metadata": {},
   "outputs": [
    {
     "data": {
      "text/html": [
       "<div>\n",
       "<style scoped>\n",
       "    .dataframe tbody tr th:only-of-type {\n",
       "        vertical-align: middle;\n",
       "    }\n",
       "\n",
       "    .dataframe tbody tr th {\n",
       "        vertical-align: top;\n",
       "    }\n",
       "\n",
       "    .dataframe thead th {\n",
       "        text-align: right;\n",
       "    }\n",
       "</style>\n",
       "<table border=\"1\" class=\"dataframe\">\n",
       "  <thead>\n",
       "    <tr style=\"text-align: right;\">\n",
       "      <th></th>\n",
       "      <th>Group</th>\n",
       "      <th>Subgroup</th>\n",
       "      <th>Subgroup2</th>\n",
       "      <th>KO</th>\n",
       "      <th>Function</th>\n",
       "      <th>ReadCounts</th>\n",
       "      <th>Sample</th>\n",
       "      <th>GE</th>\n",
       "      <th>ReadCounts_Norm</th>\n",
       "      <th>dataset</th>\n",
       "    </tr>\n",
       "  </thead>\n",
       "  <tbody>\n",
       "    <tr>\n",
       "      <th>14</th>\n",
       "      <td>Metabolism</td>\n",
       "      <td>Carbohydrate metabolism</td>\n",
       "      <td>Glycolysis / Gluconeogenesis [PATH:ko00010]</td>\n",
       "      <td>K00845</td>\n",
       "      <td>glk; glucokinase [EC:2.7.1.2]</td>\n",
       "      <td>629</td>\n",
       "      <td>BH091960M</td>\n",
       "      <td>2401.2</td>\n",
       "      <td>0.261952</td>\n",
       "      <td>60Ms</td>\n",
       "    </tr>\n",
       "    <tr>\n",
       "      <th>16</th>\n",
       "      <td>Metabolism</td>\n",
       "      <td>Carbohydrate metabolism</td>\n",
       "      <td>Galactose metabolism [PATH:ko00052]</td>\n",
       "      <td>K00845</td>\n",
       "      <td>glk; glucokinase [EC:2.7.1.2]</td>\n",
       "      <td>629</td>\n",
       "      <td>BH091960M</td>\n",
       "      <td>2401.2</td>\n",
       "      <td>0.261952</td>\n",
       "      <td>60Ms</td>\n",
       "    </tr>\n",
       "    <tr>\n",
       "      <th>18</th>\n",
       "      <td>Metabolism</td>\n",
       "      <td>Carbohydrate metabolism</td>\n",
       "      <td>Starch and sucrose metabolism [PATH:ko00500]</td>\n",
       "      <td>K00845</td>\n",
       "      <td>glk; glucokinase [EC:2.7.1.2]</td>\n",
       "      <td>629</td>\n",
       "      <td>BH091960M</td>\n",
       "      <td>2401.2</td>\n",
       "      <td>0.261952</td>\n",
       "      <td>60Ms</td>\n",
       "    </tr>\n",
       "    <tr>\n",
       "      <th>20</th>\n",
       "      <td>Metabolism</td>\n",
       "      <td>Carbohydrate metabolism</td>\n",
       "      <td>Amino sugar and nucleotide sugar metabolism [P...</td>\n",
       "      <td>K00845</td>\n",
       "      <td>glk; glucokinase [EC:2.7.1.2]</td>\n",
       "      <td>629</td>\n",
       "      <td>BH091960M</td>\n",
       "      <td>2401.2</td>\n",
       "      <td>0.261952</td>\n",
       "      <td>60Ms</td>\n",
       "    </tr>\n",
       "    <tr>\n",
       "      <th>22</th>\n",
       "      <td>Metabolism</td>\n",
       "      <td>Biosynthesis of other secondary metabolites</td>\n",
       "      <td>Streptomycin biosynthesis [PATH:ko00521]</td>\n",
       "      <td>K00845</td>\n",
       "      <td>glk; glucokinase [EC:2.7.1.2]</td>\n",
       "      <td>629</td>\n",
       "      <td>BH091960M</td>\n",
       "      <td>2401.2</td>\n",
       "      <td>0.261952</td>\n",
       "      <td>60Ms</td>\n",
       "    </tr>\n",
       "  </tbody>\n",
       "</table>\n",
       "</div>"
      ],
      "text/plain": [
       "         Group                                     Subgroup  \\\n",
       "14  Metabolism                      Carbohydrate metabolism   \n",
       "16  Metabolism                      Carbohydrate metabolism   \n",
       "18  Metabolism                      Carbohydrate metabolism   \n",
       "20  Metabolism                      Carbohydrate metabolism   \n",
       "22  Metabolism  Biosynthesis of other secondary metabolites   \n",
       "\n",
       "                                            Subgroup2      KO  \\\n",
       "14        Glycolysis / Gluconeogenesis [PATH:ko00010]  K00845   \n",
       "16                Galactose metabolism [PATH:ko00052]  K00845   \n",
       "18       Starch and sucrose metabolism [PATH:ko00500]  K00845   \n",
       "20  Amino sugar and nucleotide sugar metabolism [P...  K00845   \n",
       "22           Streptomycin biosynthesis [PATH:ko00521]  K00845   \n",
       "\n",
       "                          Function  ReadCounts     Sample      GE  \\\n",
       "14   glk; glucokinase [EC:2.7.1.2]         629  BH091960M  2401.2   \n",
       "16   glk; glucokinase [EC:2.7.1.2]         629  BH091960M  2401.2   \n",
       "18   glk; glucokinase [EC:2.7.1.2]         629  BH091960M  2401.2   \n",
       "20   glk; glucokinase [EC:2.7.1.2]         629  BH091960M  2401.2   \n",
       "22   glk; glucokinase [EC:2.7.1.2]         629  BH091960M  2401.2   \n",
       "\n",
       "    ReadCounts_Norm dataset  \n",
       "14         0.261952    60Ms  \n",
       "16         0.261952    60Ms  \n",
       "18         0.261952    60Ms  \n",
       "20         0.261952    60Ms  \n",
       "22         0.261952    60Ms  "
      ]
     },
     "execution_count": 28,
     "metadata": {},
     "output_type": "execute_result"
    }
   ],
   "source": [
    "concat.head()"
   ]
  },
  {
   "cell_type": "code",
   "execution_count": 29,
   "metadata": {},
   "outputs": [],
   "source": [
    "concat.to_csv('60Ms_vs_deeps_KOs_readcounts.csv', index=None)"
   ]
  }
 ],
 "metadata": {
  "kernelspec": {
   "display_name": "Python 3",
   "language": "python",
   "name": "python3"
  },
  "language_info": {
   "codemirror_mode": {
    "name": "ipython",
    "version": 3
   },
   "file_extension": ".py",
   "mimetype": "text/x-python",
   "name": "python",
   "nbconvert_exporter": "python",
   "pygments_lexer": "ipython3",
   "version": "3.6.7"
  }
 },
 "nbformat": 4,
 "nbformat_minor": 2
}
